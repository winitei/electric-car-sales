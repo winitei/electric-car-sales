{
 "cells": [
  {
   "cell_type": "markdown",
   "metadata": {},
   "source": [
    "# Electric Vehicle Sales Analysis\n",
    "\n",
    "Analysis of global EV sales trends from 2010-2023\n",
    "\n",
    "## Sections\n",
    "1. Data Loading and Inspection\n",
    "2. Data Cleaning\n",
    "3. Exploratory Analysis\n",
    "4. Visualization\n",
    "5. Insights"
   ]
  },
  {
   "cell_type": "code",
   "execution_count": 13,
   "metadata": {},
   "outputs": [],
   "source": [
    "# Import required libraries\n",
    "import pandas as pd\n",
    "import numpy as np\n",
    "import matplotlib.pyplot as plt\n",
    "import seaborn as sns\n"
   ]
  },
  {
   "cell_type": "code",
   "execution_count": 14,
   "metadata": {},
   "outputs": [],
   "source": [
    "# Read the CSV file\n",
    "df = pd.read_csv('../data/ev_sales_data.csv')"
   ]
  },
  {
   "cell_type": "code",
   "execution_count": 15,
   "metadata": {},
   "outputs": [
    {
     "data": {
      "text/html": [
       "<div>\n",
       "<style scoped>\n",
       "    .dataframe tbody tr th:only-of-type {\n",
       "        vertical-align: middle;\n",
       "    }\n",
       "\n",
       "    .dataframe tbody tr th {\n",
       "        vertical-align: top;\n",
       "    }\n",
       "\n",
       "    .dataframe thead th {\n",
       "        text-align: right;\n",
       "    }\n",
       "</style>\n",
       "<table border=\"1\" class=\"dataframe\">\n",
       "  <thead>\n",
       "    <tr style=\"text-align: right;\">\n",
       "      <th></th>\n",
       "      <th>region</th>\n",
       "      <th>category</th>\n",
       "      <th>parameter</th>\n",
       "      <th>mode</th>\n",
       "      <th>powertrain</th>\n",
       "      <th>year</th>\n",
       "      <th>unit</th>\n",
       "      <th>value</th>\n",
       "    </tr>\n",
       "  </thead>\n",
       "  <tbody>\n",
       "    <tr>\n",
       "      <th>0</th>\n",
       "      <td>Australia</td>\n",
       "      <td>Historical</td>\n",
       "      <td>EV sales</td>\n",
       "      <td>Cars</td>\n",
       "      <td>BEV</td>\n",
       "      <td>2011</td>\n",
       "      <td>Vehicles</td>\n",
       "      <td>49.00000</td>\n",
       "    </tr>\n",
       "    <tr>\n",
       "      <th>1</th>\n",
       "      <td>Australia</td>\n",
       "      <td>Historical</td>\n",
       "      <td>EV stock share</td>\n",
       "      <td>Cars</td>\n",
       "      <td>EV</td>\n",
       "      <td>2011</td>\n",
       "      <td>percent</td>\n",
       "      <td>0.00039</td>\n",
       "    </tr>\n",
       "    <tr>\n",
       "      <th>2</th>\n",
       "      <td>Australia</td>\n",
       "      <td>Historical</td>\n",
       "      <td>EV sales share</td>\n",
       "      <td>Cars</td>\n",
       "      <td>EV</td>\n",
       "      <td>2011</td>\n",
       "      <td>percent</td>\n",
       "      <td>0.00650</td>\n",
       "    </tr>\n",
       "    <tr>\n",
       "      <th>3</th>\n",
       "      <td>Australia</td>\n",
       "      <td>Historical</td>\n",
       "      <td>EV stock</td>\n",
       "      <td>Cars</td>\n",
       "      <td>BEV</td>\n",
       "      <td>2011</td>\n",
       "      <td>Vehicles</td>\n",
       "      <td>49.00000</td>\n",
       "    </tr>\n",
       "    <tr>\n",
       "      <th>4</th>\n",
       "      <td>Australia</td>\n",
       "      <td>Historical</td>\n",
       "      <td>EV stock</td>\n",
       "      <td>Cars</td>\n",
       "      <td>BEV</td>\n",
       "      <td>2012</td>\n",
       "      <td>Vehicles</td>\n",
       "      <td>220.00000</td>\n",
       "    </tr>\n",
       "  </tbody>\n",
       "</table>\n",
       "</div>"
      ],
      "text/plain": [
       "      region    category       parameter  mode powertrain  year      unit  \\\n",
       "0  Australia  Historical        EV sales  Cars        BEV  2011  Vehicles   \n",
       "1  Australia  Historical  EV stock share  Cars         EV  2011   percent   \n",
       "2  Australia  Historical  EV sales share  Cars         EV  2011   percent   \n",
       "3  Australia  Historical        EV stock  Cars        BEV  2011  Vehicles   \n",
       "4  Australia  Historical        EV stock  Cars        BEV  2012  Vehicles   \n",
       "\n",
       "       value  \n",
       "0   49.00000  \n",
       "1    0.00039  \n",
       "2    0.00650  \n",
       "3   49.00000  \n",
       "4  220.00000  "
      ]
     },
     "execution_count": 15,
     "metadata": {},
     "output_type": "execute_result"
    }
   ],
   "source": [
    "# Display first few rows\n",
    "df.head()"
   ]
  },
  {
   "cell_type": "code",
   "execution_count": 16,
   "metadata": {},
   "outputs": [
    {
     "name": "stdout",
     "output_type": "stream",
     "text": [
      "<class 'pandas.core.frame.DataFrame'>\n",
      "RangeIndex: 3798 entries, 0 to 3797\n",
      "Data columns (total 8 columns):\n",
      " #   Column      Non-Null Count  Dtype  \n",
      "---  ------      --------------  -----  \n",
      " 0   region      3798 non-null   object \n",
      " 1   category    3798 non-null   object \n",
      " 2   parameter   3798 non-null   object \n",
      " 3   mode        3798 non-null   object \n",
      " 4   powertrain  3798 non-null   object \n",
      " 5   year        3798 non-null   int64  \n",
      " 6   unit        3798 non-null   object \n",
      " 7   value       3798 non-null   float64\n",
      "dtypes: float64(1), int64(1), object(6)\n",
      "memory usage: 237.5+ KB\n"
     ]
    },
    {
     "data": {
      "text/html": [
       "<div>\n",
       "<style scoped>\n",
       "    .dataframe tbody tr th:only-of-type {\n",
       "        vertical-align: middle;\n",
       "    }\n",
       "\n",
       "    .dataframe tbody tr th {\n",
       "        vertical-align: top;\n",
       "    }\n",
       "\n",
       "    .dataframe thead th {\n",
       "        text-align: right;\n",
       "    }\n",
       "</style>\n",
       "<table border=\"1\" class=\"dataframe\">\n",
       "  <thead>\n",
       "    <tr style=\"text-align: right;\">\n",
       "      <th></th>\n",
       "      <th>year</th>\n",
       "      <th>value</th>\n",
       "    </tr>\n",
       "  </thead>\n",
       "  <tbody>\n",
       "    <tr>\n",
       "      <th>count</th>\n",
       "      <td>3798.000000</td>\n",
       "      <td>3.798000e+03</td>\n",
       "    </tr>\n",
       "    <tr>\n",
       "      <th>mean</th>\n",
       "      <td>2017.369932</td>\n",
       "      <td>1.009542e+05</td>\n",
       "    </tr>\n",
       "    <tr>\n",
       "      <th>std</th>\n",
       "      <td>3.809226</td>\n",
       "      <td>8.184402e+05</td>\n",
       "    </tr>\n",
       "    <tr>\n",
       "      <th>min</th>\n",
       "      <td>2010.000000</td>\n",
       "      <td>1.500000e-05</td>\n",
       "    </tr>\n",
       "    <tr>\n",
       "      <th>25%</th>\n",
       "      <td>2014.000000</td>\n",
       "      <td>2.300000e+00</td>\n",
       "    </tr>\n",
       "    <tr>\n",
       "      <th>50%</th>\n",
       "      <td>2018.000000</td>\n",
       "      <td>1.900000e+02</td>\n",
       "    </tr>\n",
       "    <tr>\n",
       "      <th>75%</th>\n",
       "      <td>2021.000000</td>\n",
       "      <td>6.800000e+03</td>\n",
       "    </tr>\n",
       "    <tr>\n",
       "      <th>max</th>\n",
       "      <td>2023.000000</td>\n",
       "      <td>2.800000e+07</td>\n",
       "    </tr>\n",
       "  </tbody>\n",
       "</table>\n",
       "</div>"
      ],
      "text/plain": [
       "              year         value\n",
       "count  3798.000000  3.798000e+03\n",
       "mean   2017.369932  1.009542e+05\n",
       "std       3.809226  8.184402e+05\n",
       "min    2010.000000  1.500000e-05\n",
       "25%    2014.000000  2.300000e+00\n",
       "50%    2018.000000  1.900000e+02\n",
       "75%    2021.000000  6.800000e+03\n",
       "max    2023.000000  2.800000e+07"
      ]
     },
     "execution_count": 16,
     "metadata": {},
     "output_type": "execute_result"
    }
   ],
   "source": [
    "# Get dataset information\n",
    "df.info()\n",
    "\n",
    "# Basic statistical summary\n",
    "df.describe()"
   ]
  },
  {
   "cell_type": "code",
   "execution_count": 17,
   "metadata": {},
   "outputs": [
    {
     "name": "stdout",
     "output_type": "stream",
     "text": [
      "Columns: ['region', 'category', 'parameter', 'mode', 'powertrain', 'year', 'unit', 'value']\n",
      "\n",
      "Missing values:\n",
      " region        0\n",
      "category      0\n",
      "parameter     0\n",
      "mode          0\n",
      "powertrain    0\n",
      "year          0\n",
      "unit          0\n",
      "value         0\n",
      "dtype: int64\n"
     ]
    }
   ],
   "source": [
    "# View column names\n",
    "print(\"Columns:\", df.columns.tolist())\n",
    "\n",
    "# Check for missing values\n",
    "print(\"\\nMissing values:\\n\", df.isnull().sum())"
   ]
  },
  {
   "cell_type": "code",
   "execution_count": 18,
   "metadata": {},
   "outputs": [
    {
     "name": "stdout",
     "output_type": "stream",
     "text": [
      "First few rows of data:\n",
      "\n",
      "Dataset Information:\n",
      "<class 'pandas.core.frame.DataFrame'>\n",
      "RangeIndex: 3798 entries, 0 to 3797\n",
      "Data columns (total 8 columns):\n",
      " #   Column      Non-Null Count  Dtype  \n",
      "---  ------      --------------  -----  \n",
      " 0   region      3798 non-null   object \n",
      " 1   category    3798 non-null   object \n",
      " 2   parameter   3798 non-null   object \n",
      " 3   mode        3798 non-null   object \n",
      " 4   powertrain  3798 non-null   object \n",
      " 5   year        3798 non-null   int64  \n",
      " 6   unit        3798 non-null   object \n",
      " 7   value       3798 non-null   float64\n",
      "dtypes: float64(1), int64(1), object(6)\n",
      "memory usage: 237.5+ KB\n",
      "\n",
      "Missing values:\n",
      "\n",
      "Statistical Summary:\n"
     ]
    },
    {
     "data": {
      "text/html": [
       "<div>\n",
       "<style scoped>\n",
       "    .dataframe tbody tr th:only-of-type {\n",
       "        vertical-align: middle;\n",
       "    }\n",
       "\n",
       "    .dataframe tbody tr th {\n",
       "        vertical-align: top;\n",
       "    }\n",
       "\n",
       "    .dataframe thead th {\n",
       "        text-align: right;\n",
       "    }\n",
       "</style>\n",
       "<table border=\"1\" class=\"dataframe\">\n",
       "  <thead>\n",
       "    <tr style=\"text-align: right;\">\n",
       "      <th></th>\n",
       "      <th>year</th>\n",
       "      <th>value</th>\n",
       "    </tr>\n",
       "  </thead>\n",
       "  <tbody>\n",
       "    <tr>\n",
       "      <th>count</th>\n",
       "      <td>3798.000000</td>\n",
       "      <td>3.798000e+03</td>\n",
       "    </tr>\n",
       "    <tr>\n",
       "      <th>mean</th>\n",
       "      <td>2017.369932</td>\n",
       "      <td>1.009542e+05</td>\n",
       "    </tr>\n",
       "    <tr>\n",
       "      <th>std</th>\n",
       "      <td>3.809226</td>\n",
       "      <td>8.184402e+05</td>\n",
       "    </tr>\n",
       "    <tr>\n",
       "      <th>min</th>\n",
       "      <td>2010.000000</td>\n",
       "      <td>1.500000e-05</td>\n",
       "    </tr>\n",
       "    <tr>\n",
       "      <th>25%</th>\n",
       "      <td>2014.000000</td>\n",
       "      <td>2.300000e+00</td>\n",
       "    </tr>\n",
       "    <tr>\n",
       "      <th>50%</th>\n",
       "      <td>2018.000000</td>\n",
       "      <td>1.900000e+02</td>\n",
       "    </tr>\n",
       "    <tr>\n",
       "      <th>75%</th>\n",
       "      <td>2021.000000</td>\n",
       "      <td>6.800000e+03</td>\n",
       "    </tr>\n",
       "    <tr>\n",
       "      <th>max</th>\n",
       "      <td>2023.000000</td>\n",
       "      <td>2.800000e+07</td>\n",
       "    </tr>\n",
       "  </tbody>\n",
       "</table>\n",
       "</div>"
      ],
      "text/plain": [
       "              year         value\n",
       "count  3798.000000  3.798000e+03\n",
       "mean   2017.369932  1.009542e+05\n",
       "std       3.809226  8.184402e+05\n",
       "min    2010.000000  1.500000e-05\n",
       "25%    2014.000000  2.300000e+00\n",
       "50%    2018.000000  1.900000e+02\n",
       "75%    2021.000000  6.800000e+03\n",
       "max    2023.000000  2.800000e+07"
      ]
     },
     "execution_count": 18,
     "metadata": {},
     "output_type": "execute_result"
    }
   ],
   "source": [
    "# 1. View first few rows\n",
    "print(\"First few rows of data:\")\n",
    "df.head()\n",
    "\n",
    "# 2. Get basic information\n",
    "print(\"\\nDataset Information:\")\n",
    "df.info()\n",
    "\n",
    "# 3. Check missing values\n",
    "print(\"\\nMissing values:\")\n",
    "df.isnull().sum()\n",
    "\n",
    "# 4. Basic statistics\n",
    "print(\"\\nStatistical Summary:\")\n",
    "df.describe()"
   ]
  },
  {
   "cell_type": "code",
   "execution_count": 19,
   "metadata": {},
   "outputs": [
    {
     "name": "stdout",
     "output_type": "stream",
     "text": [
      "Unique parameters in our dataset:\n",
      "['EV sales' 'EV stock share' 'EV sales share' 'EV stock'\n",
      " 'Electricity demand' 'Oil displacement Mbd'\n",
      " 'Oil displacement, million lge']\n",
      "\n",
      "EV Sales Statistics (number of vehicles):\n",
      "count    1.342000e+03\n",
      "mean     7.571890e+04\n",
      "std      4.682545e+05\n",
      "min      1.000000e+00\n",
      "25%      8.300000e+01\n",
      "50%      1.100000e+03\n",
      "75%      1.200000e+04\n",
      "max      9.500000e+06\n",
      "Name: value, dtype: float64\n",
      "\n",
      "EV Sales Share Statistics (percentages):\n",
      "count    603.000000\n",
      "mean       5.778701\n",
      "std       12.326818\n",
      "min        0.000120\n",
      "25%        0.140000\n",
      "50%        0.900000\n",
      "75%        4.950000\n",
      "max       93.000000\n",
      "Name: value, dtype: float64\n"
     ]
    }
   ],
   "source": [
    "# Let's see what unique parameters we have\n",
    "print(\"Unique parameters in our dataset:\")\n",
    "print(df['parameter'].unique())\n",
    "\n",
    "# Create separate dataframes for different parameters\n",
    "sales_df = df[df['parameter'] == 'EV sales']\n",
    "stock_df = df[df['parameter'] == 'EV stock']\n",
    "sales_share_df = df[df['parameter'] == 'EV sales share']\n",
    "stock_share_df = df[df['parameter'] == 'EV stock share']\n",
    "\n",
    "# Look at statistics for sales numbers (actual vehicles)\n",
    "print(\"\\nEV Sales Statistics (number of vehicles):\")\n",
    "print(sales_df['value'].describe())\n",
    "\n",
    "# Look at statistics for sales share (percentages)\n",
    "print(\"\\nEV Sales Share Statistics (percentages):\")\n",
    "print(sales_share_df['value'].describe())"
   ]
  },
  {
   "cell_type": "code",
   "execution_count": 20,
   "metadata": {},
   "outputs": [
    {
     "name": "stdout",
     "output_type": "stream",
     "text": [
      "Unique parameters in our dataset:\n",
      "['EV sales' 'EV stock share' 'EV sales share' 'EV stock'\n",
      " 'Electricity demand' 'Oil displacement Mbd'\n",
      " 'Oil displacement, million lge']\n"
     ]
    }
   ],
   "source": [
    "# Let's see what unique parameters we have\n",
    "print(\"Unique parameters in our dataset:\")\n",
    "print(df['parameter'].unique())"
   ]
  },
  {
   "cell_type": "code",
   "execution_count": 21,
   "metadata": {},
   "outputs": [],
   "source": [
    "# Group parameters into Vehicle Numbers\n",
    "vehicle_metrics_df = df[df['parameter'].isin(['EV sales', 'EV stock'])]"
   ]
  },
  {
   "cell_type": "code",
   "execution_count": 22,
   "metadata": {},
   "outputs": [],
   "source": [
    "# Group parameters into Market Share Metrics\n",
    "share_metrics_df = df[df['parameter'].isin(['EV sales share', 'EV stock share'])]\n"
   ]
  },
  {
   "cell_type": "code",
   "execution_count": 23,
   "metadata": {},
   "outputs": [],
   "source": [
    "# Group parameters into Environmental Impact\n",
    "impact_metrics_df = df[df['parameter'].isin(['Electricity demand', 'Oil displacement Mbd', 'Oil displacement, million lge'])]"
   ]
  },
  {
   "cell_type": "code",
   "execution_count": 27,
   "metadata": {},
   "outputs": [],
   "source": [
    "# Vehicles sales analysis\n",
    "# Filter for just EV sales data\n",
    "sales_by_year_df = df[df['parameter'] == 'EV sales'].groupby('year')['value'].sum().reset_index()\n"
   ]
  },
  {
   "cell_type": "code",
   "execution_count": 42,
   "metadata": {},
   "outputs": [
    {
     "data": {
      "image/png": "[encoded data removed]",
      "text/plain": [
       "<Figure size 1200x600 with 1 Axes>"
      ]
     },
     "metadata": {},
     "output_type": "display_data"
    }
   ],
   "source": [
    "# draw bar chat to see the result\n",
    "plt.figure(figsize=(12, 6))\n",
    "plt.bar(sales_by_year_df['year'],sales_by_year_df['value'])\n",
    "plt.title('Global EV Sales by Year')\n",
    "plt.xlabel('Year')\n",
    "plt.ylabel('EV Sales number(million)')\n",
    "# Converts large number to 1M to read\n",
    "plt.gca().yaxis.set_major_formatter(\n",
    "    plt.FuncFormatter(lambda x, p: f'{x/1000000:.1f}M')\n",
    ")\n",
    "# Create bar plot and store the bars\n",
    "bars = plt.bar(sales_by_year_df['year'], sales_by_year_df['value'])\n",
    "# Add value labels above each bar\n",
    "for bar in bars:\n",
    "    height = bar.get_height()\n",
    "    plt.text(bar.get_x() + bar.get_width()/2.,  # X position (center of bar)\n",
    "             height,                              # Y position (top of bar)\n",
    "             f'{height/1e6:.1f}M',               # Text (value in millions)\n",
    "             ha='center',                         # Horizontal alignment\n",
    "             va='bottom')  \n",
    "\n",
    "plt.show()"
   ]
  },
  {
   "cell_type": "code",
   "execution_count": null,
   "metadata": {},
   "outputs": [],
   "source": []
  }
 ],
 "metadata": {
  "kernelspec": {
   "display_name": "venv",
   "language": "python",
   "name": "python3"
  },
  "language_info": {
   "codemirror_mode": {
    "name": "ipython",
    "version": 3
   },
   "file_extension": ".py",
   "mimetype": "text/x-python",
   "name": "python",
   "nbconvert_exporter": "python",
   "pygments_lexer": "ipython3",
   "version": "3.9.6"
  }
 },
 "nbformat": 4,
 "nbformat_minor": 4
}
